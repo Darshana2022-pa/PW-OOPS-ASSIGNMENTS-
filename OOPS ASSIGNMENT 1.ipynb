{
 "cells": [
  {
   "cell_type": "code",
   "execution_count": 1,
   "id": "099ece35",
   "metadata": {},
   "outputs": [],
   "source": [
    "# Q1: Class:->A class is considered as a blueprint of objects.We use the class keyword to create a class in Python.\n",
    "# Object:-> An object is called an instance of a class\n",
    "class Bike:\n",
    "    name = \"\"\n",
    "    gear = 0\n",
    "    \n",
    "bike1 = Bike() # object created"
   ]
  },
  {
   "cell_type": "code",
   "execution_count": 2,
   "id": "6bc90c3c",
   "metadata": {},
   "outputs": [],
   "source": [
    "# Q2:-> These principles are called the four pillars of object-oriented programming (OOP). These four pillars are Inheritance, Polymorphism, Encapsulation and Abstraction."
   ]
  },
  {
   "cell_type": "code",
   "execution_count": 3,
   "id": "fc0ebe40",
   "metadata": {},
   "outputs": [],
   "source": [
    "#Q3:-> __init__ method to initialize the object. The keyword self represents the instance of a class and binds the attributes with the given arguments."
   ]
  },
  {
   "cell_type": "code",
   "execution_count": 4,
   "id": "a06a3f5c",
   "metadata": {},
   "outputs": [],
   "source": [
    "#Q4:-> The self is used to represent the instance of the class. With this keyword, you can access the attributes and methods of the class in python."
   ]
  },
  {
   "cell_type": "code",
   "execution_count": null,
   "id": "e2fa0e0e",
   "metadata": {},
   "outputs": [],
   "source": [
    "#Q5:-> Inheritance allows us to define a class that inherits all the methods and properties from another class. \n",
    "#Parent class is the class being inherited from, also called base class.\n",
    "#Child class is the class that inherits from another class, also called derived class"
   ]
  }
 ],
 "metadata": {
  "kernelspec": {
   "display_name": "Python 3 (ipykernel)",
   "language": "python",
   "name": "python3"
  },
  "language_info": {
   "codemirror_mode": {
    "name": "ipython",
    "version": 3
   },
   "file_extension": ".py",
   "mimetype": "text/x-python",
   "name": "python",
   "nbconvert_exporter": "python",
   "pygments_lexer": "ipython3",
   "version": "3.9.13"
  }
 },
 "nbformat": 4,
 "nbformat_minor": 5
}
